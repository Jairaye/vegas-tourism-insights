{
 "cells": [
  {
   "cell_type": "markdown",
   "id": "6dfc2a4b",
   "metadata": {},
   "source": [
    "# 🧼 01_clean_and_explore.ipynb\n",
    "\n",
    "This notebook loads, cleans, and explores Las Vegas tourism data from LVCVA."
   ]
  },
  {
   "cell_type": "code",
   "execution_count": 1,
   "id": "572b2af2",
   "metadata": {},
   "outputs": [
    {
     "data": {
      "application/vnd.microsoft.datawrangler.viewer.v0+json": {
       "columns": [
        {
         "name": "index",
         "rawType": "int64",
         "type": "integer"
        },
        {
         "name": "Tourism Indicators",
         "rawType": "object",
         "type": "string"
        },
        {
         "name": "2022-01-01 00:00:00",
         "rawType": "float64",
         "type": "float"
        },
        {
         "name": "2022-02-01 00:00:00",
         "rawType": "float64",
         "type": "float"
        },
        {
         "name": "2022-03-01 00:00:00",
         "rawType": "float64",
         "type": "float"
        },
        {
         "name": "2022-04-01 00:00:00",
         "rawType": "float64",
         "type": "float"
        },
        {
         "name": "2022-05-01 00:00:00",
         "rawType": "float64",
         "type": "float"
        },
        {
         "name": "2022-06-01 00:00:00",
         "rawType": "float64",
         "type": "float"
        },
        {
         "name": "2022-07-01 00:00:00",
         "rawType": "float64",
         "type": "float"
        },
        {
         "name": "2022-08-01 00:00:00",
         "rawType": "float64",
         "type": "float"
        },
        {
         "name": "2022-09-01 00:00:00",
         "rawType": "float64",
         "type": "float"
        },
        {
         "name": "2022-10-01 00:00:00",
         "rawType": "float64",
         "type": "float"
        },
        {
         "name": "2022-11-01 00:00:00",
         "rawType": "float64",
         "type": "float"
        },
        {
         "name": "2022-12-01 00:00:00",
         "rawType": "float64",
         "type": "float"
        },
        {
         "name": "2023-01-01 00:00:00",
         "rawType": "float64",
         "type": "float"
        },
        {
         "name": "2023-02-01 00:00:00",
         "rawType": "float64",
         "type": "float"
        },
        {
         "name": "2023-03-01 00:00:00",
         "rawType": "float64",
         "type": "float"
        },
        {
         "name": "2023-04-01 00:00:00",
         "rawType": "float64",
         "type": "float"
        },
        {
         "name": "2023-05-01 00:00:00",
         "rawType": "float64",
         "type": "float"
        },
        {
         "name": "2023-06-01 00:00:00",
         "rawType": "float64",
         "type": "float"
        },
        {
         "name": "2023-07-01 00:00:00",
         "rawType": "float64",
         "type": "float"
        },
        {
         "name": "2023-08-01 00:00:00",
         "rawType": "float64",
         "type": "float"
        },
        {
         "name": "2023-09-01 00:00:00",
         "rawType": "float64",
         "type": "float"
        },
        {
         "name": "2023-10-01 00:00:00",
         "rawType": "float64",
         "type": "float"
        },
        {
         "name": "2023-11-01 00:00:00",
         "rawType": "float64",
         "type": "float"
        },
        {
         "name": "2023-12-01 00:00:00",
         "rawType": "float64",
         "type": "float"
        },
        {
         "name": "2024-01-01 00:00:00",
         "rawType": "float64",
         "type": "float"
        },
        {
         "name": "2024-02-01 00:00:00",
         "rawType": "float64",
         "type": "float"
        },
        {
         "name": "2024-03-01 00:00:00",
         "rawType": "float64",
         "type": "float"
        },
        {
         "name": "2024-04-01 00:00:00",
         "rawType": "float64",
         "type": "float"
        },
        {
         "name": "2024-05-01 00:00:00",
         "rawType": "float64",
         "type": "float"
        },
        {
         "name": "2024-06-01 00:00:00",
         "rawType": "float64",
         "type": "float"
        },
        {
         "name": "2024-07-01 00:00:00",
         "rawType": "float64",
         "type": "float"
        },
        {
         "name": "2024-08-01 00:00:00",
         "rawType": "float64",
         "type": "float"
        },
        {
         "name": "2024-09-01 00:00:00",
         "rawType": "float64",
         "type": "float"
        },
        {
         "name": "2024-10-01 00:00:00",
         "rawType": "float64",
         "type": "float"
        },
        {
         "name": "2024-11-01 00:00:00",
         "rawType": "float64",
         "type": "float"
        },
        {
         "name": "2024-12-01 00:00:00",
         "rawType": "float64",
         "type": "float"
        },
        {
         "name": "2025-01-01 00:00:00",
         "rawType": "float64",
         "type": "float"
        },
        {
         "name": "2025-02-01 00:00:00",
         "rawType": "float64",
         "type": "float"
        },
        {
         "name": "2025-03-01 00:00:00",
         "rawType": "float64",
         "type": "float"
        },
        {
         "name": "2025-04-01 00:00:00",
         "rawType": "float64",
         "type": "float"
        },
        {
         "name": "2025-05-01 00:00:00",
         "rawType": "float64",
         "type": "float"
        },
        {
         "name": "2025-06-01 00:00:00",
         "rawType": "float64",
         "type": "float"
        }
       ],
       "ref": "e6513600-1d41-486f-8229-d184af1be7e3",
       "rows": [
        [
         "0",
         "Visitor Volume",
         "2474800.0",
         "2616600.0",
         "3334700.0",
         "3382200.0",
         "3446900.0",
         "3324800.0",
         "3491600.0",
         "3190600.0",
         "3355200.0",
         "3639200.0",
         "3265500.0",
         "3307200.0",
         "3275300.0",
         "3081800.0",
         "3655800.0",
         "3385500.0",
         "3498000.0",
         "3428500.0",
         "3527800.0",
         "3319700.0",
         "3336900.0",
         "3630300.0",
         "3292800.0",
         "3397500.0",
         "3383500.0",
         "3374300.0",
         "3671500.0",
         "3513500.0",
         "3657200.0",
         "3490600.0",
         "3512500.0",
         "3399900.0",
         "3389100.0",
         "3564800.0",
         "3313700.0",
         "3405700.0",
         "3344600.0",
         "2973300.0",
         "3386800.0",
         "3335900.0",
         "3418700.0",
         "3094800.0"
        ],
        [
         "1",
         "Convention Attendance",
         "298200.0",
         "439000.0",
         "494200.0",
         "377400.0",
         "391100.0",
         "469100.0",
         "325000.0",
         "394100.0",
         "372600.0",
         "628100.0",
         "582800.0",
         "219900.0",
         "513000.0",
         "663400.0",
         "771000.0",
         "369400.0",
         "453900.0",
         "455500.0",
         "270300.0",
         "647600.0",
         "407900.0",
         "640600.0",
         "598400.0",
         "195700.0",
         "557200.0",
         "764800.0",
         "484400.0",
         "503500.0",
         "461900.0",
         "419300.0",
         "251600.0",
         "638300.0",
         "527200.0",
         "559200.0",
         "548200.0",
         "279200.0",
         "628800.0",
         "615400.0",
         "533900.0",
         "573600.0",
         "511200.0",
         "374600.0"
        ],
        [
         "2",
         "Available Room Inventory",
         "150487.0",
         "150702.0",
         "150693.0",
         "150495.0",
         "151703.0",
         "151523.0",
         "151352.0",
         "151116.0",
         "150856.0",
         "150867.0",
         "150915.0",
         "150857.0",
         "151771.0",
         "151743.0",
         "151752.0",
         "151839.0",
         "151839.0",
         "151839.0",
         "151718.0",
         "151914.0",
         "151999.0",
         "152289.0",
         "152299.0",
         "154662.0",
         "156100.0",
         "156190.0",
         "156173.0",
         "154745.0",
         "154035.0",
         "153719.0",
         "152257.0",
         "150679.0",
         "150679.0",
         "150646.0",
         "150859.0",
         "150612.0",
         "150325.0",
         "150509.0",
         "150757.0",
         "150818.0",
         "150909.0",
         "150220.0"
        ],
        [
         "3",
         "Total Occupancy",
         "0.593",
         "0.693",
         "0.806",
         "0.84",
         "0.826",
         "0.827",
         "0.834",
         "0.768",
         "0.831",
         "0.877",
         "0.812",
         "0.791",
         "0.791",
         "0.822",
         "0.883",
         "0.843",
         "0.844",
         "0.855",
         "0.852",
         "0.803",
         "0.826",
         "0.877",
         "0.819",
         "0.799",
         "0.789",
         "0.839",
         "0.853",
         "0.855",
         "0.861",
         "0.852",
         "0.837",
         "0.812",
         "0.839",
         "0.857",
         "0.814",
         "0.819",
         "0.819",
         "0.805",
         "0.829",
         "0.845",
         "0.83",
         "0.787"
        ],
        [
         "4",
         "    Weekend Occupancy",
         "0.746",
         "0.875",
         "0.921",
         "0.932",
         "0.919",
         "0.9",
         "0.911",
         "0.901",
         "0.921",
         "0.94",
         "0.896",
         "0.871",
         "0.884",
         "0.893",
         "0.945",
         "0.924",
         "0.932",
         "0.902",
         "0.926",
         "0.897",
         "0.89",
         "0.942",
         "0.887",
         "0.877",
         "0.836",
         "0.903",
         "0.918",
         "0.934",
         "0.934",
         "0.913",
         "0.932",
         "0.902",
         "0.904",
         "0.946",
         "0.891",
         "0.889",
         "0.856",
         "0.864",
         "0.908",
         "0.938",
         "0.899",
         "0.876"
        ]
       ],
       "shape": {
        "columns": 43,
        "rows": 5
       }
      },
      "text/html": [
       "<div>\n",
       "<style scoped>\n",
       "    .dataframe tbody tr th:only-of-type {\n",
       "        vertical-align: middle;\n",
       "    }\n",
       "\n",
       "    .dataframe tbody tr th {\n",
       "        vertical-align: top;\n",
       "    }\n",
       "\n",
       "    .dataframe thead th {\n",
       "        text-align: right;\n",
       "    }\n",
       "</style>\n",
       "<table border=\"1\" class=\"dataframe\">\n",
       "  <thead>\n",
       "    <tr style=\"text-align: right;\">\n",
       "      <th></th>\n",
       "      <th>Tourism Indicators</th>\n",
       "      <th>2022-01-01 00:00:00</th>\n",
       "      <th>2022-02-01 00:00:00</th>\n",
       "      <th>2022-03-01 00:00:00</th>\n",
       "      <th>2022-04-01 00:00:00</th>\n",
       "      <th>2022-05-01 00:00:00</th>\n",
       "      <th>2022-06-01 00:00:00</th>\n",
       "      <th>2022-07-01 00:00:00</th>\n",
       "      <th>2022-08-01 00:00:00</th>\n",
       "      <th>2022-09-01 00:00:00</th>\n",
       "      <th>...</th>\n",
       "      <th>2024-09-01 00:00:00</th>\n",
       "      <th>2024-10-01 00:00:00</th>\n",
       "      <th>2024-11-01 00:00:00</th>\n",
       "      <th>2024-12-01 00:00:00</th>\n",
       "      <th>2025-01-01 00:00:00</th>\n",
       "      <th>2025-02-01 00:00:00</th>\n",
       "      <th>2025-03-01 00:00:00</th>\n",
       "      <th>2025-04-01 00:00:00</th>\n",
       "      <th>2025-05-01 00:00:00</th>\n",
       "      <th>2025-06-01 00:00:00</th>\n",
       "    </tr>\n",
       "  </thead>\n",
       "  <tbody>\n",
       "    <tr>\n",
       "      <th>0</th>\n",
       "      <td>Visitor Volume</td>\n",
       "      <td>2474800.000</td>\n",
       "      <td>2616600.000</td>\n",
       "      <td>3334700.000</td>\n",
       "      <td>3382200.000</td>\n",
       "      <td>3446900.000</td>\n",
       "      <td>3324800.000</td>\n",
       "      <td>3491600.000</td>\n",
       "      <td>3190600.000</td>\n",
       "      <td>3355200.000</td>\n",
       "      <td>...</td>\n",
       "      <td>3389100.000</td>\n",
       "      <td>3564800.000</td>\n",
       "      <td>3313700.000</td>\n",
       "      <td>3405700.000</td>\n",
       "      <td>3344600.000</td>\n",
       "      <td>2973300.000</td>\n",
       "      <td>3386800.000</td>\n",
       "      <td>3335900.000</td>\n",
       "      <td>3418700.000</td>\n",
       "      <td>3094800.000</td>\n",
       "    </tr>\n",
       "    <tr>\n",
       "      <th>1</th>\n",
       "      <td>Convention Attendance</td>\n",
       "      <td>298200.000</td>\n",
       "      <td>439000.000</td>\n",
       "      <td>494200.000</td>\n",
       "      <td>377400.000</td>\n",
       "      <td>391100.000</td>\n",
       "      <td>469100.000</td>\n",
       "      <td>325000.000</td>\n",
       "      <td>394100.000</td>\n",
       "      <td>372600.000</td>\n",
       "      <td>...</td>\n",
       "      <td>527200.000</td>\n",
       "      <td>559200.000</td>\n",
       "      <td>548200.000</td>\n",
       "      <td>279200.000</td>\n",
       "      <td>628800.000</td>\n",
       "      <td>615400.000</td>\n",
       "      <td>533900.000</td>\n",
       "      <td>573600.000</td>\n",
       "      <td>511200.000</td>\n",
       "      <td>374600.000</td>\n",
       "    </tr>\n",
       "    <tr>\n",
       "      <th>2</th>\n",
       "      <td>Available Room Inventory</td>\n",
       "      <td>150487.000</td>\n",
       "      <td>150702.000</td>\n",
       "      <td>150693.000</td>\n",
       "      <td>150495.000</td>\n",
       "      <td>151703.000</td>\n",
       "      <td>151523.000</td>\n",
       "      <td>151352.000</td>\n",
       "      <td>151116.000</td>\n",
       "      <td>150856.000</td>\n",
       "      <td>...</td>\n",
       "      <td>150679.000</td>\n",
       "      <td>150646.000</td>\n",
       "      <td>150859.000</td>\n",
       "      <td>150612.000</td>\n",
       "      <td>150325.000</td>\n",
       "      <td>150509.000</td>\n",
       "      <td>150757.000</td>\n",
       "      <td>150818.000</td>\n",
       "      <td>150909.000</td>\n",
       "      <td>150220.000</td>\n",
       "    </tr>\n",
       "    <tr>\n",
       "      <th>3</th>\n",
       "      <td>Total Occupancy</td>\n",
       "      <td>0.593</td>\n",
       "      <td>0.693</td>\n",
       "      <td>0.806</td>\n",
       "      <td>0.840</td>\n",
       "      <td>0.826</td>\n",
       "      <td>0.827</td>\n",
       "      <td>0.834</td>\n",
       "      <td>0.768</td>\n",
       "      <td>0.831</td>\n",
       "      <td>...</td>\n",
       "      <td>0.839</td>\n",
       "      <td>0.857</td>\n",
       "      <td>0.814</td>\n",
       "      <td>0.819</td>\n",
       "      <td>0.819</td>\n",
       "      <td>0.805</td>\n",
       "      <td>0.829</td>\n",
       "      <td>0.845</td>\n",
       "      <td>0.830</td>\n",
       "      <td>0.787</td>\n",
       "    </tr>\n",
       "    <tr>\n",
       "      <th>4</th>\n",
       "      <td>Weekend Occupancy</td>\n",
       "      <td>0.746</td>\n",
       "      <td>0.875</td>\n",
       "      <td>0.921</td>\n",
       "      <td>0.932</td>\n",
       "      <td>0.919</td>\n",
       "      <td>0.900</td>\n",
       "      <td>0.911</td>\n",
       "      <td>0.901</td>\n",
       "      <td>0.921</td>\n",
       "      <td>...</td>\n",
       "      <td>0.904</td>\n",
       "      <td>0.946</td>\n",
       "      <td>0.891</td>\n",
       "      <td>0.889</td>\n",
       "      <td>0.856</td>\n",
       "      <td>0.864</td>\n",
       "      <td>0.908</td>\n",
       "      <td>0.938</td>\n",
       "      <td>0.899</td>\n",
       "      <td>0.876</td>\n",
       "    </tr>\n",
       "  </tbody>\n",
       "</table>\n",
       "<p>5 rows × 43 columns</p>\n",
       "</div>"
      ],
      "text/plain": [
       "         Tourism Indicators  2022-01-01 00:00:00  2022-02-01 00:00:00  \\\n",
       "0            Visitor Volume          2474800.000          2616600.000   \n",
       "1     Convention Attendance           298200.000           439000.000   \n",
       "2  Available Room Inventory           150487.000           150702.000   \n",
       "3           Total Occupancy                0.593                0.693   \n",
       "4         Weekend Occupancy                0.746                0.875   \n",
       "\n",
       "   2022-03-01 00:00:00  2022-04-01 00:00:00  2022-05-01 00:00:00  \\\n",
       "0          3334700.000          3382200.000          3446900.000   \n",
       "1           494200.000           377400.000           391100.000   \n",
       "2           150693.000           150495.000           151703.000   \n",
       "3                0.806                0.840                0.826   \n",
       "4                0.921                0.932                0.919   \n",
       "\n",
       "   2022-06-01 00:00:00  2022-07-01 00:00:00  2022-08-01 00:00:00  \\\n",
       "0          3324800.000          3491600.000          3190600.000   \n",
       "1           469100.000           325000.000           394100.000   \n",
       "2           151523.000           151352.000           151116.000   \n",
       "3                0.827                0.834                0.768   \n",
       "4                0.900                0.911                0.901   \n",
       "\n",
       "   2022-09-01 00:00:00  ...  2024-09-01 00:00:00  2024-10-01 00:00:00  \\\n",
       "0          3355200.000  ...          3389100.000          3564800.000   \n",
       "1           372600.000  ...           527200.000           559200.000   \n",
       "2           150856.000  ...           150679.000           150646.000   \n",
       "3                0.831  ...                0.839                0.857   \n",
       "4                0.921  ...                0.904                0.946   \n",
       "\n",
       "   2024-11-01 00:00:00  2024-12-01 00:00:00  2025-01-01 00:00:00  \\\n",
       "0          3313700.000          3405700.000          3344600.000   \n",
       "1           548200.000           279200.000           628800.000   \n",
       "2           150859.000           150612.000           150325.000   \n",
       "3                0.814                0.819                0.819   \n",
       "4                0.891                0.889                0.856   \n",
       "\n",
       "   2025-02-01 00:00:00  2025-03-01 00:00:00  2025-04-01 00:00:00  \\\n",
       "0          2973300.000          3386800.000          3335900.000   \n",
       "1           615400.000           533900.000           573600.000   \n",
       "2           150509.000           150757.000           150818.000   \n",
       "3                0.805                0.829                0.845   \n",
       "4                0.864                0.908                0.938   \n",
       "\n",
       "   2025-05-01 00:00:00  2025-06-01 00:00:00  \n",
       "0          3418700.000          3094800.000  \n",
       "1           511200.000           374600.000  \n",
       "2           150909.000           150220.000  \n",
       "3                0.830                0.787  \n",
       "4                0.899                0.876  \n",
       "\n",
       "[5 rows x 43 columns]"
      ]
     },
     "execution_count": 1,
     "metadata": {},
     "output_type": "execute_result"
    }
   ],
   "source": [
    "\n",
    "import pandas as pd\n",
    "import matplotlib.pyplot as plt\n",
    "\n",
    "# Load the data\n",
    "file_path = '../data/LVCVA Data.xlsx'\n",
    "df_raw = pd.read_excel(file_path)\n",
    "\n",
    "# Preview raw format\n",
    "df_raw.head()\n"
   ]
  },
  {
   "cell_type": "markdown",
   "id": "bcbd6595",
   "metadata": {},
   "source": [
    "## 🧹 Clean the Data\n",
    "We'll standardize the date headers and reshape the data into tidy long format."
   ]
  },
  {
   "cell_type": "code",
   "execution_count": 2,
   "id": "d962dea4",
   "metadata": {},
   "outputs": [
    {
     "data": {
      "application/vnd.microsoft.datawrangler.viewer.v0+json": {
       "columns": [
        {
         "name": "index",
         "rawType": "int64",
         "type": "integer"
        },
        {
         "name": "date",
         "rawType": "datetime64[ns]",
         "type": "datetime"
        },
        {
         "name": "indicator",
         "rawType": "object",
         "type": "string"
        },
        {
         "name": "value",
         "rawType": "float64",
         "type": "float"
        }
       ],
       "ref": "b62aabb5-32fa-451e-9bc1-2a9cbe402fd6",
       "rows": [
        [
         "0",
         "2022-01-01 00:00:00",
         "Visitor Volume",
         "2474800.0"
        ],
        [
         "1",
         "2022-02-01 00:00:00",
         "Visitor Volume",
         "2616600.0"
        ],
        [
         "2",
         "2022-03-01 00:00:00",
         "Visitor Volume",
         "3334700.0"
        ],
        [
         "3",
         "2022-04-01 00:00:00",
         "Visitor Volume",
         "3382200.0"
        ],
        [
         "4",
         "2022-05-01 00:00:00",
         "Visitor Volume",
         "3446900.0"
        ]
       ],
       "shape": {
        "columns": 3,
        "rows": 5
       }
      },
      "text/html": [
       "<div>\n",
       "<style scoped>\n",
       "    .dataframe tbody tr th:only-of-type {\n",
       "        vertical-align: middle;\n",
       "    }\n",
       "\n",
       "    .dataframe tbody tr th {\n",
       "        vertical-align: top;\n",
       "    }\n",
       "\n",
       "    .dataframe thead th {\n",
       "        text-align: right;\n",
       "    }\n",
       "</style>\n",
       "<table border=\"1\" class=\"dataframe\">\n",
       "  <thead>\n",
       "    <tr style=\"text-align: right;\">\n",
       "      <th></th>\n",
       "      <th>date</th>\n",
       "      <th>indicator</th>\n",
       "      <th>value</th>\n",
       "    </tr>\n",
       "  </thead>\n",
       "  <tbody>\n",
       "    <tr>\n",
       "      <th>0</th>\n",
       "      <td>2022-01-01</td>\n",
       "      <td>Visitor Volume</td>\n",
       "      <td>2474800.0</td>\n",
       "    </tr>\n",
       "    <tr>\n",
       "      <th>1</th>\n",
       "      <td>2022-02-01</td>\n",
       "      <td>Visitor Volume</td>\n",
       "      <td>2616600.0</td>\n",
       "    </tr>\n",
       "    <tr>\n",
       "      <th>2</th>\n",
       "      <td>2022-03-01</td>\n",
       "      <td>Visitor Volume</td>\n",
       "      <td>3334700.0</td>\n",
       "    </tr>\n",
       "    <tr>\n",
       "      <th>3</th>\n",
       "      <td>2022-04-01</td>\n",
       "      <td>Visitor Volume</td>\n",
       "      <td>3382200.0</td>\n",
       "    </tr>\n",
       "    <tr>\n",
       "      <th>4</th>\n",
       "      <td>2022-05-01</td>\n",
       "      <td>Visitor Volume</td>\n",
       "      <td>3446900.0</td>\n",
       "    </tr>\n",
       "  </tbody>\n",
       "</table>\n",
       "</div>"
      ],
      "text/plain": [
       "        date       indicator      value\n",
       "0 2022-01-01  Visitor Volume  2474800.0\n",
       "1 2022-02-01  Visitor Volume  2616600.0\n",
       "2 2022-03-01  Visitor Volume  3334700.0\n",
       "3 2022-04-01  Visitor Volume  3382200.0\n",
       "4 2022-05-01  Visitor Volume  3446900.0"
      ]
     },
     "execution_count": 2,
     "metadata": {},
     "output_type": "execute_result"
    }
   ],
   "source": [
    "\n",
    "# Extract indicators and values\n",
    "indicators = df_raw.iloc[:, 0]\n",
    "data = df_raw.iloc[:, 1:]\n",
    "\n",
    "# Standardize date headers\n",
    "def parse_column(col):\n",
    "    try: return pd.to_datetime(col)\n",
    "    except: return pd.to_datetime(str(col), errors='coerce', format='%b-%y')\n",
    "\n",
    "data.columns = [parse_column(c) for c in data.columns]\n",
    "\n",
    "# Reshape into long format\n",
    "df_cleaned = pd.DataFrame(data.values.T, columns=indicators)\n",
    "df_cleaned['date'] = data.columns\n",
    "df_long = df_cleaned.melt(id_vars='date', var_name='indicator', value_name='value').dropna()\n",
    "\n",
    "# Preview clean data\n",
    "df_long.head()\n"
   ]
  },
  {
   "cell_type": "markdown",
   "id": "6f343910",
   "metadata": {},
   "source": [
    "## 📊 Plot: Visitor Volume Over Time"
   ]
  },
  {
   "cell_type": "code",
   "execution_count": 3,
   "id": "6296f9e8",
   "metadata": {},
   "outputs": [
    {
     "data": {
      "image/png": "[encoded data removed]",
      "text/plain": [
       "<Figure size 1000x500 with 1 Axes>"
      ]
     },
     "metadata": {},
     "output_type": "display_data"
    }
   ],
   "source": [
    "\n",
    "df_visitors = df_long[df_long['indicator'] == 'Visitor Volume']\n",
    "\n",
    "plt.figure(figsize=(10,5))\n",
    "plt.plot(df_visitors['date'], df_visitors['value'], marker='o', linewidth=2)\n",
    "plt.title(\"Las Vegas Visitor Volume Over Time\")\n",
    "plt.xlabel(\"Date\")\n",
    "plt.ylabel(\"Visitor Volume\")\n",
    "plt.grid(True)\n",
    "plt.xticks(rotation=45)\n",
    "plt.tight_layout()\n",
    "plt.show()\n"
   ]
  },
  {
   "cell_type": "markdown",
   "id": "bd3634e8",
   "metadata": {},
   "source": [
    "## 📊 Plot: Total vs Weekend Occupancy"
   ]
  },
  {
   "cell_type": "code",
   "execution_count": 4,
   "id": "0dd4ede5",
   "metadata": {},
   "outputs": [
    {
     "data": {
      "image/png": "[encoded data removed]",
      "text/plain": [
       "<Figure size 1000x500 with 1 Axes>"
      ]
     },
     "metadata": {},
     "output_type": "display_data"
    }
   ],
   "source": [
    "\n",
    "df_occ = df_long[df_long['indicator'].isin(['Total Occupancy', 'Weekend Occupancy'])]\n",
    "pivoted = df_occ.pivot(index='date', columns='indicator', values='value')\n",
    "\n",
    "pivoted.plot(figsize=(10,5), marker='o')\n",
    "plt.title(\"Occupancy Rates Over Time\")\n",
    "plt.ylabel(\"Occupancy %\")\n",
    "plt.grid(True)\n",
    "plt.xticks(rotation=45)\n",
    "plt.tight_layout()\n",
    "plt.show()\n"
   ]
  }
 ],
 "metadata": {
  "kernelspec": {
   "display_name": "Python 3",
   "language": "python",
   "name": "python3"
  },
  "language_info": {
   "codemirror_mode": {
    "name": "ipython",
    "version": 3
   },
   "file_extension": ".py",
   "mimetype": "text/x-python",
   "name": "python",
   "nbconvert_exporter": "python",
   "pygments_lexer": "ipython3",
   "version": "3.12.7"
  }
 },
 "nbformat": 4,
 "nbformat_minor": 5
}
